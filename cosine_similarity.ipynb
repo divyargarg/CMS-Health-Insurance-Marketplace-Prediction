{
 "cells": [
  {
   "cell_type": "code",
   "execution_count": 217,
   "metadata": {},
   "outputs": [],
   "source": [
    "import pandas as pd\n",
    "pd.set_option('display.max_rows', 500)\n",
    "pd.set_option('display.max_columns', 500)\n",
    "pd.set_option('display.width', 1000)\n",
    "import numpy as np\n",
    "\n",
    "from sklearn.metrics.pairwise import cosine_similarity\n",
    "from sklearn.preprocessing import LabelEncoder\n",
    "le = LabelEncoder()"
   ]
  },
  {
   "cell_type": "code",
   "execution_count": 218,
   "metadata": {},
   "outputs": [],
   "source": [
    "data = pd.read_csv('MergedData_Final.csv')"
   ]
  },
  {
   "cell_type": "code",
   "execution_count": 219,
   "metadata": {},
   "outputs": [],
   "source": [
    "#data.columns"
   ]
  },
  {
   "cell_type": "code",
   "execution_count": 220,
   "metadata": {},
   "outputs": [],
   "source": [
    "#data.drop(columns=['BusinessYear_y', 'StateCode_y','DentalOnlyPlan_y'],inplace=True)"
   ]
  },
  {
   "cell_type": "code",
   "execution_count": 2,
   "metadata": {},
   "outputs": [
    {
     "name": "stdout",
     "output_type": "stream",
     "text": [
      "7 32\n"
     ]
    }
   ],
   "source": [
    "conti = ['EHBPercentTotalPremium', 'EHBPediatricDentalApportionmentQuantity','IssuerActuarialValue','IndividualRate','AVCalculatorOutputNumber','FirstTierUtilization', 'SecondTierUtilization']\n",
    "#conti = []\n",
    "cat = ['DentalOnlyPlan_x','IsNewPlan', 'PlanType', 'MetalLevel', 'DesignType', 'UniquePlanDesign','IsNoticeRequiredForPregnancy', 'IsReferralRequiredForSpecialist', 'CompositeRatingOffered', 'ChildOnlyOffering', 'WellnessProgramOffered','IsGuaranteedRate', 'OutOfCountryCoverage', 'OutOfServiceAreaCoverage', 'NationalNetwork', 'CSRVariationType', 'MedicalDrugDeductiblesIntegrated', 'MedicalDrugMaximumOutofPocketIntegrated', 'MultipleInNetworkTiers','IsHSAEligible','Tobacco', 'age_cat','EnrolleeContractRateDeterminationRule', 'TwoParentFamilyMaxDependentsRule', 'SingleParentFamilyMaxDependentsRule', 'DependentMaximumAgRule','ChildrenOnlyContractMaxChildrenRule', 'DomesticPartnerAsSpouseIndicator', 'SameSexPartnerAsSpouseIndicator', 'AgeDeterminationRule', 'MinimumTobaccoFreeMonthsRule', 'MarketCoverage']\n",
    "#cat = ['DentalOnlyPlan_x','Tobacco', 'PlanType','age_cat','MarketCoverage', 'MetalLevel', 'IsHSAEligible', 'WellnessProgramOffered', 'IsNoticeRequiredForPregnancy', 'IsReferralRequiredForSpecialist', 'MinimumTobaccoFreeMonthsRule']\n",
    "#conti = ['IssuerActuarialValue', 'AVCalculatorOutputNumber','IndividualRate']\n",
    "print(len(conti),len(cat))\n",
    "#transformed = data.drop(columns=conti).apply(LabelEncoder().fit_transform)"
   ]
  },
  {
   "cell_type": "code",
   "execution_count": 3,
   "metadata": {},
   "outputs": [
    {
     "data": {
      "text/plain": [
       "['EHBPercentTotalPremium',\n",
       " 'EHBPediatricDentalApportionmentQuantity',\n",
       " 'IssuerActuarialValue',\n",
       " 'IndividualRate',\n",
       " 'AVCalculatorOutputNumber',\n",
       " 'FirstTierUtilization',\n",
       " 'SecondTierUtilization']"
      ]
     },
     "execution_count": 3,
     "metadata": {},
     "output_type": "execute_result"
    }
   ],
   "source": [
    "conti"
   ]
  },
  {
   "cell_type": "code",
   "execution_count": 374,
   "metadata": {},
   "outputs": [
    {
     "name": "stderr",
     "output_type": "stream",
     "text": [
      "/Users/dikshya/anaconda3/lib/python3.6/site-packages/ipykernel_launcher.py:5: SettingWithCopyWarning: \n",
      "A value is trying to be set on a copy of a slice from a DataFrame.\n",
      "Try using .loc[row_indexer,col_indexer] = value instead\n",
      "\n",
      "See the caveats in the documentation: http://pandas.pydata.org/pandas-docs/stable/user_guide/indexing.html#returning-a-view-versus-a-copy\n",
      "  \"\"\"\n"
     ]
    }
   ],
   "source": [
    "transformed_data = data[cat].apply(LabelEncoder().fit_transform)\n",
    "transformed_data['index'] = transformed_data.index\n",
    "\n",
    "non_transformed_data = data[['StandardComponentId','StateCode_x','IndividualRate']]\n",
    "non_transformed_data['index'] = non_transformed_data.index\n",
    "\n",
    "processed_data = pd.merge(non_transformed_data,transformed_data, on='index')"
   ]
  },
  {
   "cell_type": "markdown",
   "metadata": {},
   "source": [
    "non_transformed_data = data[['EHBPercentTotalPremium', 'EHBPediatricDentalApportionmentQuantity','IssuerActuarialValue','IndividualRate','AVCalculatorOutputNumber','FirstTierUtilization', 'SecondTierUtilization','PlanId','StateCode_x']]\n",
    "non_transformed_data['index'] = non_transformed_data.index\n",
    "\n",
    "\n",
    "transformed_data = data[cat].apply(LabelEncoder().fit_transform)\n",
    "transformed_data['index'] = transformed_data.index\n",
    "\n",
    "\n",
    "processed_data = pd.merge(non_transformed_data,transformed_data, on='index')\n",
    "\n",
    "\n",
    "\n",
    "print(non_transformed_data.shape,transformed_data.shape,processed_data.shape)"
   ]
  },
  {
   "cell_type": "code",
   "execution_count": 375,
   "metadata": {
    "scrolled": true
   },
   "outputs": [
    {
     "data": {
      "text/plain": [
       "(96009, 15)"
      ]
     },
     "execution_count": 375,
     "metadata": {},
     "output_type": "execute_result"
    }
   ],
   "source": [
    "processed_data.shape"
   ]
  },
  {
   "cell_type": "code",
   "execution_count": 376,
   "metadata": {},
   "outputs": [
    {
     "data": {
      "text/html": [
       "<div>\n",
       "<style scoped>\n",
       "    .dataframe tbody tr th:only-of-type {\n",
       "        vertical-align: middle;\n",
       "    }\n",
       "\n",
       "    .dataframe tbody tr th {\n",
       "        vertical-align: top;\n",
       "    }\n",
       "\n",
       "    .dataframe thead th {\n",
       "        text-align: right;\n",
       "    }\n",
       "</style>\n",
       "<table border=\"1\" class=\"dataframe\">\n",
       "  <thead>\n",
       "    <tr style=\"text-align: right;\">\n",
       "      <th></th>\n",
       "      <th>StandardComponentId</th>\n",
       "      <th>StateCode_x</th>\n",
       "      <th>IndividualRate</th>\n",
       "      <th>index</th>\n",
       "      <th>DentalOnlyPlan_x</th>\n",
       "      <th>Tobacco</th>\n",
       "      <th>PlanType</th>\n",
       "      <th>age_cat</th>\n",
       "      <th>MarketCoverage</th>\n",
       "      <th>MetalLevel</th>\n",
       "      <th>IsHSAEligible</th>\n",
       "      <th>WellnessProgramOffered</th>\n",
       "      <th>IsNoticeRequiredForPregnancy</th>\n",
       "      <th>IsReferralRequiredForSpecialist</th>\n",
       "      <th>MinimumTobaccoFreeMonthsRule</th>\n",
       "    </tr>\n",
       "  </thead>\n",
       "  <tbody>\n",
       "    <tr>\n",
       "      <th>0</th>\n",
       "      <td>21989AK0130001</td>\n",
       "      <td>AK</td>\n",
       "      <td>68.145</td>\n",
       "      <td>0</td>\n",
       "      <td>1</td>\n",
       "      <td>0</td>\n",
       "      <td>2</td>\n",
       "      <td>7</td>\n",
       "      <td>1</td>\n",
       "      <td>4</td>\n",
       "      <td>0</td>\n",
       "      <td>1</td>\n",
       "      <td>0</td>\n",
       "      <td>0</td>\n",
       "      <td>2</td>\n",
       "    </tr>\n",
       "    <tr>\n",
       "      <th>1</th>\n",
       "      <td>21989AK0030001</td>\n",
       "      <td>AK</td>\n",
       "      <td>53.000</td>\n",
       "      <td>1</td>\n",
       "      <td>1</td>\n",
       "      <td>0</td>\n",
       "      <td>2</td>\n",
       "      <td>0</td>\n",
       "      <td>0</td>\n",
       "      <td>5</td>\n",
       "      <td>0</td>\n",
       "      <td>1</td>\n",
       "      <td>0</td>\n",
       "      <td>0</td>\n",
       "      <td>2</td>\n",
       "    </tr>\n",
       "    <tr>\n",
       "      <th>2</th>\n",
       "      <td>21989AK0030001</td>\n",
       "      <td>AK</td>\n",
       "      <td>48.000</td>\n",
       "      <td>2</td>\n",
       "      <td>1</td>\n",
       "      <td>0</td>\n",
       "      <td>2</td>\n",
       "      <td>1</td>\n",
       "      <td>0</td>\n",
       "      <td>5</td>\n",
       "      <td>0</td>\n",
       "      <td>1</td>\n",
       "      <td>0</td>\n",
       "      <td>0</td>\n",
       "      <td>2</td>\n",
       "    </tr>\n",
       "    <tr>\n",
       "      <th>3</th>\n",
       "      <td>21989AK0030001</td>\n",
       "      <td>AK</td>\n",
       "      <td>42.000</td>\n",
       "      <td>3</td>\n",
       "      <td>1</td>\n",
       "      <td>0</td>\n",
       "      <td>2</td>\n",
       "      <td>2</td>\n",
       "      <td>0</td>\n",
       "      <td>5</td>\n",
       "      <td>0</td>\n",
       "      <td>1</td>\n",
       "      <td>0</td>\n",
       "      <td>0</td>\n",
       "      <td>2</td>\n",
       "    </tr>\n",
       "    <tr>\n",
       "      <th>4</th>\n",
       "      <td>21989AK0030001</td>\n",
       "      <td>AK</td>\n",
       "      <td>42.000</td>\n",
       "      <td>4</td>\n",
       "      <td>1</td>\n",
       "      <td>0</td>\n",
       "      <td>2</td>\n",
       "      <td>3</td>\n",
       "      <td>0</td>\n",
       "      <td>5</td>\n",
       "      <td>0</td>\n",
       "      <td>1</td>\n",
       "      <td>0</td>\n",
       "      <td>0</td>\n",
       "      <td>2</td>\n",
       "    </tr>\n",
       "    <tr>\n",
       "      <th>...</th>\n",
       "      <td>...</td>\n",
       "      <td>...</td>\n",
       "      <td>...</td>\n",
       "      <td>...</td>\n",
       "      <td>...</td>\n",
       "      <td>...</td>\n",
       "      <td>...</td>\n",
       "      <td>...</td>\n",
       "      <td>...</td>\n",
       "      <td>...</td>\n",
       "      <td>...</td>\n",
       "      <td>...</td>\n",
       "      <td>...</td>\n",
       "      <td>...</td>\n",
       "      <td>...</td>\n",
       "    </tr>\n",
       "    <tr>\n",
       "      <th>96004</th>\n",
       "      <td>94562WV0080001</td>\n",
       "      <td>WV</td>\n",
       "      <td>1030.500</td>\n",
       "      <td>96004</td>\n",
       "      <td>1</td>\n",
       "      <td>0</td>\n",
       "      <td>4</td>\n",
       "      <td>2</td>\n",
       "      <td>1</td>\n",
       "      <td>5</td>\n",
       "      <td>0</td>\n",
       "      <td>1</td>\n",
       "      <td>0</td>\n",
       "      <td>0</td>\n",
       "      <td>2</td>\n",
       "    </tr>\n",
       "    <tr>\n",
       "      <th>96005</th>\n",
       "      <td>94562WV0080001</td>\n",
       "      <td>WV</td>\n",
       "      <td>1040.500</td>\n",
       "      <td>96005</td>\n",
       "      <td>1</td>\n",
       "      <td>0</td>\n",
       "      <td>4</td>\n",
       "      <td>3</td>\n",
       "      <td>1</td>\n",
       "      <td>5</td>\n",
       "      <td>0</td>\n",
       "      <td>1</td>\n",
       "      <td>0</td>\n",
       "      <td>0</td>\n",
       "      <td>2</td>\n",
       "    </tr>\n",
       "    <tr>\n",
       "      <th>96006</th>\n",
       "      <td>94562WV0080001</td>\n",
       "      <td>WV</td>\n",
       "      <td>1050.500</td>\n",
       "      <td>96006</td>\n",
       "      <td>1</td>\n",
       "      <td>0</td>\n",
       "      <td>4</td>\n",
       "      <td>4</td>\n",
       "      <td>1</td>\n",
       "      <td>5</td>\n",
       "      <td>0</td>\n",
       "      <td>1</td>\n",
       "      <td>0</td>\n",
       "      <td>0</td>\n",
       "      <td>2</td>\n",
       "    </tr>\n",
       "    <tr>\n",
       "      <th>96007</th>\n",
       "      <td>94562WV0080001</td>\n",
       "      <td>WV</td>\n",
       "      <td>1059.500</td>\n",
       "      <td>96007</td>\n",
       "      <td>1</td>\n",
       "      <td>0</td>\n",
       "      <td>4</td>\n",
       "      <td>5</td>\n",
       "      <td>1</td>\n",
       "      <td>5</td>\n",
       "      <td>0</td>\n",
       "      <td>1</td>\n",
       "      <td>0</td>\n",
       "      <td>0</td>\n",
       "      <td>2</td>\n",
       "    </tr>\n",
       "    <tr>\n",
       "      <th>96008</th>\n",
       "      <td>94562WV0080001</td>\n",
       "      <td>WV</td>\n",
       "      <td>1064.000</td>\n",
       "      <td>96008</td>\n",
       "      <td>1</td>\n",
       "      <td>0</td>\n",
       "      <td>4</td>\n",
       "      <td>6</td>\n",
       "      <td>1</td>\n",
       "      <td>5</td>\n",
       "      <td>0</td>\n",
       "      <td>1</td>\n",
       "      <td>0</td>\n",
       "      <td>0</td>\n",
       "      <td>2</td>\n",
       "    </tr>\n",
       "  </tbody>\n",
       "</table>\n",
       "<p>96009 rows × 15 columns</p>\n",
       "</div>"
      ],
      "text/plain": [
       "      StandardComponentId StateCode_x  IndividualRate  index  DentalOnlyPlan_x  Tobacco  PlanType  age_cat  MarketCoverage  MetalLevel  IsHSAEligible  WellnessProgramOffered  IsNoticeRequiredForPregnancy  IsReferralRequiredForSpecialist  MinimumTobaccoFreeMonthsRule\n",
       "0          21989AK0130001          AK          68.145      0                 1        0         2        7               1           4              0                       1                             0                                0                             2\n",
       "1          21989AK0030001          AK          53.000      1                 1        0         2        0               0           5              0                       1                             0                                0                             2\n",
       "2          21989AK0030001          AK          48.000      2                 1        0         2        1               0           5              0                       1                             0                                0                             2\n",
       "3          21989AK0030001          AK          42.000      3                 1        0         2        2               0           5              0                       1                             0                                0                             2\n",
       "4          21989AK0030001          AK          42.000      4                 1        0         2        3               0           5              0                       1                             0                                0                             2\n",
       "...                   ...         ...             ...    ...               ...      ...       ...      ...             ...         ...            ...                     ...                           ...                              ...                           ...\n",
       "96004      94562WV0080001          WV        1030.500  96004                 1        0         4        2               1           5              0                       1                             0                                0                             2\n",
       "96005      94562WV0080001          WV        1040.500  96005                 1        0         4        3               1           5              0                       1                             0                                0                             2\n",
       "96006      94562WV0080001          WV        1050.500  96006                 1        0         4        4               1           5              0                       1                             0                                0                             2\n",
       "96007      94562WV0080001          WV        1059.500  96007                 1        0         4        5               1           5              0                       1                             0                                0                             2\n",
       "96008      94562WV0080001          WV        1064.000  96008                 1        0         4        6               1           5              0                       1                             0                                0                             2\n",
       "\n",
       "[96009 rows x 15 columns]"
      ]
     },
     "execution_count": 376,
     "metadata": {},
     "output_type": "execute_result"
    }
   ],
   "source": [
    "processed_data"
   ]
  },
  {
   "cell_type": "code",
   "execution_count": 377,
   "metadata": {
    "scrolled": true
   },
   "outputs": [],
   "source": [
    "#data.columns"
   ]
  },
  {
   "cell_type": "code",
   "execution_count": 386,
   "metadata": {},
   "outputs": [],
   "source": [
    "def returnCurrentRows(planID,State,age):\n",
    "    temp = processed_data.loc[(processed_data.StandardComponentId==planID) & (processed_data.StateCode_x==State) & (processed_data.age_cat==age)]\n",
    "    #return np.array(temp.drop(['PlanId','StateCode_x']))\n",
    "    return temp"
   ]
  },
  {
   "cell_type": "code",
   "execution_count": 387,
   "metadata": {},
   "outputs": [],
   "source": [
    "def returnFutureRows(State,age):\n",
    "    temp = processed_data.loc[(processed_data.StateCode_x==State) & (processed_data.age_cat==age)]\n",
    "    return temp"
   ]
  },
  {
   "cell_type": "code",
   "execution_count": 388,
   "metadata": {},
   "outputs": [],
   "source": [
    "planID = '14630WI0010003'\n",
    "CState = 'WI'\n",
    "age = 2\n",
    "FState = 'DE'\n",
    "\n"
   ]
  },
  {
   "cell_type": "code",
   "execution_count": 389,
   "metadata": {},
   "outputs": [],
   "source": [
    "#processed_data.loc[processed_data['StateCode_x']=='WI']"
   ]
  },
  {
   "cell_type": "code",
   "execution_count": 390,
   "metadata": {},
   "outputs": [
    {
     "data": {
      "text/html": [
       "<div>\n",
       "<style scoped>\n",
       "    .dataframe tbody tr th:only-of-type {\n",
       "        vertical-align: middle;\n",
       "    }\n",
       "\n",
       "    .dataframe tbody tr th {\n",
       "        vertical-align: top;\n",
       "    }\n",
       "\n",
       "    .dataframe thead th {\n",
       "        text-align: right;\n",
       "    }\n",
       "</style>\n",
       "<table border=\"1\" class=\"dataframe\">\n",
       "  <thead>\n",
       "    <tr style=\"text-align: right;\">\n",
       "      <th></th>\n",
       "      <th>StandardComponentId</th>\n",
       "      <th>StateCode_x</th>\n",
       "      <th>IndividualRate</th>\n",
       "      <th>index</th>\n",
       "      <th>DentalOnlyPlan_x</th>\n",
       "      <th>Tobacco</th>\n",
       "      <th>PlanType</th>\n",
       "      <th>age_cat</th>\n",
       "      <th>MarketCoverage</th>\n",
       "      <th>MetalLevel</th>\n",
       "      <th>IsHSAEligible</th>\n",
       "      <th>WellnessProgramOffered</th>\n",
       "      <th>IsNoticeRequiredForPregnancy</th>\n",
       "      <th>IsReferralRequiredForSpecialist</th>\n",
       "      <th>MinimumTobaccoFreeMonthsRule</th>\n",
       "    </tr>\n",
       "  </thead>\n",
       "  <tbody>\n",
       "    <tr>\n",
       "      <th>0</th>\n",
       "      <td>21989AK0130001</td>\n",
       "      <td>AK</td>\n",
       "      <td>68.145</td>\n",
       "      <td>0</td>\n",
       "      <td>1</td>\n",
       "      <td>0</td>\n",
       "      <td>2</td>\n",
       "      <td>7</td>\n",
       "      <td>1</td>\n",
       "      <td>4</td>\n",
       "      <td>0</td>\n",
       "      <td>1</td>\n",
       "      <td>0</td>\n",
       "      <td>0</td>\n",
       "      <td>2</td>\n",
       "    </tr>\n",
       "    <tr>\n",
       "      <th>1</th>\n",
       "      <td>21989AK0030001</td>\n",
       "      <td>AK</td>\n",
       "      <td>53.000</td>\n",
       "      <td>1</td>\n",
       "      <td>1</td>\n",
       "      <td>0</td>\n",
       "      <td>2</td>\n",
       "      <td>0</td>\n",
       "      <td>0</td>\n",
       "      <td>5</td>\n",
       "      <td>0</td>\n",
       "      <td>1</td>\n",
       "      <td>0</td>\n",
       "      <td>0</td>\n",
       "      <td>2</td>\n",
       "    </tr>\n",
       "    <tr>\n",
       "      <th>2</th>\n",
       "      <td>21989AK0030001</td>\n",
       "      <td>AK</td>\n",
       "      <td>48.000</td>\n",
       "      <td>2</td>\n",
       "      <td>1</td>\n",
       "      <td>0</td>\n",
       "      <td>2</td>\n",
       "      <td>1</td>\n",
       "      <td>0</td>\n",
       "      <td>5</td>\n",
       "      <td>0</td>\n",
       "      <td>1</td>\n",
       "      <td>0</td>\n",
       "      <td>0</td>\n",
       "      <td>2</td>\n",
       "    </tr>\n",
       "    <tr>\n",
       "      <th>3</th>\n",
       "      <td>21989AK0030001</td>\n",
       "      <td>AK</td>\n",
       "      <td>42.000</td>\n",
       "      <td>3</td>\n",
       "      <td>1</td>\n",
       "      <td>0</td>\n",
       "      <td>2</td>\n",
       "      <td>2</td>\n",
       "      <td>0</td>\n",
       "      <td>5</td>\n",
       "      <td>0</td>\n",
       "      <td>1</td>\n",
       "      <td>0</td>\n",
       "      <td>0</td>\n",
       "      <td>2</td>\n",
       "    </tr>\n",
       "    <tr>\n",
       "      <th>4</th>\n",
       "      <td>21989AK0030001</td>\n",
       "      <td>AK</td>\n",
       "      <td>42.000</td>\n",
       "      <td>4</td>\n",
       "      <td>1</td>\n",
       "      <td>0</td>\n",
       "      <td>2</td>\n",
       "      <td>3</td>\n",
       "      <td>0</td>\n",
       "      <td>5</td>\n",
       "      <td>0</td>\n",
       "      <td>1</td>\n",
       "      <td>0</td>\n",
       "      <td>0</td>\n",
       "      <td>2</td>\n",
       "    </tr>\n",
       "    <tr>\n",
       "      <th>...</th>\n",
       "      <td>...</td>\n",
       "      <td>...</td>\n",
       "      <td>...</td>\n",
       "      <td>...</td>\n",
       "      <td>...</td>\n",
       "      <td>...</td>\n",
       "      <td>...</td>\n",
       "      <td>...</td>\n",
       "      <td>...</td>\n",
       "      <td>...</td>\n",
       "      <td>...</td>\n",
       "      <td>...</td>\n",
       "      <td>...</td>\n",
       "      <td>...</td>\n",
       "      <td>...</td>\n",
       "    </tr>\n",
       "    <tr>\n",
       "      <th>96004</th>\n",
       "      <td>94562WV0080001</td>\n",
       "      <td>WV</td>\n",
       "      <td>1030.500</td>\n",
       "      <td>96004</td>\n",
       "      <td>1</td>\n",
       "      <td>0</td>\n",
       "      <td>4</td>\n",
       "      <td>2</td>\n",
       "      <td>1</td>\n",
       "      <td>5</td>\n",
       "      <td>0</td>\n",
       "      <td>1</td>\n",
       "      <td>0</td>\n",
       "      <td>0</td>\n",
       "      <td>2</td>\n",
       "    </tr>\n",
       "    <tr>\n",
       "      <th>96005</th>\n",
       "      <td>94562WV0080001</td>\n",
       "      <td>WV</td>\n",
       "      <td>1040.500</td>\n",
       "      <td>96005</td>\n",
       "      <td>1</td>\n",
       "      <td>0</td>\n",
       "      <td>4</td>\n",
       "      <td>3</td>\n",
       "      <td>1</td>\n",
       "      <td>5</td>\n",
       "      <td>0</td>\n",
       "      <td>1</td>\n",
       "      <td>0</td>\n",
       "      <td>0</td>\n",
       "      <td>2</td>\n",
       "    </tr>\n",
       "    <tr>\n",
       "      <th>96006</th>\n",
       "      <td>94562WV0080001</td>\n",
       "      <td>WV</td>\n",
       "      <td>1050.500</td>\n",
       "      <td>96006</td>\n",
       "      <td>1</td>\n",
       "      <td>0</td>\n",
       "      <td>4</td>\n",
       "      <td>4</td>\n",
       "      <td>1</td>\n",
       "      <td>5</td>\n",
       "      <td>0</td>\n",
       "      <td>1</td>\n",
       "      <td>0</td>\n",
       "      <td>0</td>\n",
       "      <td>2</td>\n",
       "    </tr>\n",
       "    <tr>\n",
       "      <th>96007</th>\n",
       "      <td>94562WV0080001</td>\n",
       "      <td>WV</td>\n",
       "      <td>1059.500</td>\n",
       "      <td>96007</td>\n",
       "      <td>1</td>\n",
       "      <td>0</td>\n",
       "      <td>4</td>\n",
       "      <td>5</td>\n",
       "      <td>1</td>\n",
       "      <td>5</td>\n",
       "      <td>0</td>\n",
       "      <td>1</td>\n",
       "      <td>0</td>\n",
       "      <td>0</td>\n",
       "      <td>2</td>\n",
       "    </tr>\n",
       "    <tr>\n",
       "      <th>96008</th>\n",
       "      <td>94562WV0080001</td>\n",
       "      <td>WV</td>\n",
       "      <td>1064.000</td>\n",
       "      <td>96008</td>\n",
       "      <td>1</td>\n",
       "      <td>0</td>\n",
       "      <td>4</td>\n",
       "      <td>6</td>\n",
       "      <td>1</td>\n",
       "      <td>5</td>\n",
       "      <td>0</td>\n",
       "      <td>1</td>\n",
       "      <td>0</td>\n",
       "      <td>0</td>\n",
       "      <td>2</td>\n",
       "    </tr>\n",
       "  </tbody>\n",
       "</table>\n",
       "<p>96009 rows × 15 columns</p>\n",
       "</div>"
      ],
      "text/plain": [
       "      StandardComponentId StateCode_x  IndividualRate  index  DentalOnlyPlan_x  Tobacco  PlanType  age_cat  MarketCoverage  MetalLevel  IsHSAEligible  WellnessProgramOffered  IsNoticeRequiredForPregnancy  IsReferralRequiredForSpecialist  MinimumTobaccoFreeMonthsRule\n",
       "0          21989AK0130001          AK          68.145      0                 1        0         2        7               1           4              0                       1                             0                                0                             2\n",
       "1          21989AK0030001          AK          53.000      1                 1        0         2        0               0           5              0                       1                             0                                0                             2\n",
       "2          21989AK0030001          AK          48.000      2                 1        0         2        1               0           5              0                       1                             0                                0                             2\n",
       "3          21989AK0030001          AK          42.000      3                 1        0         2        2               0           5              0                       1                             0                                0                             2\n",
       "4          21989AK0030001          AK          42.000      4                 1        0         2        3               0           5              0                       1                             0                                0                             2\n",
       "...                   ...         ...             ...    ...               ...      ...       ...      ...             ...         ...            ...                     ...                           ...                              ...                           ...\n",
       "96004      94562WV0080001          WV        1030.500  96004                 1        0         4        2               1           5              0                       1                             0                                0                             2\n",
       "96005      94562WV0080001          WV        1040.500  96005                 1        0         4        3               1           5              0                       1                             0                                0                             2\n",
       "96006      94562WV0080001          WV        1050.500  96006                 1        0         4        4               1           5              0                       1                             0                                0                             2\n",
       "96007      94562WV0080001          WV        1059.500  96007                 1        0         4        5               1           5              0                       1                             0                                0                             2\n",
       "96008      94562WV0080001          WV        1064.000  96008                 1        0         4        6               1           5              0                       1                             0                                0                             2\n",
       "\n",
       "[96009 rows x 15 columns]"
      ]
     },
     "execution_count": 390,
     "metadata": {},
     "output_type": "execute_result"
    }
   ],
   "source": [
    "processed_data"
   ]
  },
  {
   "cell_type": "code",
   "execution_count": 391,
   "metadata": {},
   "outputs": [
    {
     "data": {
      "text/plain": [
       "Index(['StandardComponentId', 'StateCode_x', 'IndividualRate', 'index', 'DentalOnlyPlan_x', 'Tobacco', 'PlanType', 'age_cat', 'MarketCoverage', 'MetalLevel', 'IsHSAEligible', 'WellnessProgramOffered', 'IsNoticeRequiredForPregnancy', 'IsReferralRequiredForSpecialist', 'MinimumTobaccoFreeMonthsRule'], dtype='object')"
      ]
     },
     "execution_count": 391,
     "metadata": {},
     "output_type": "execute_result"
    }
   ],
   "source": [
    "processed_data.columns"
   ]
  },
  {
   "cell_type": "code",
   "execution_count": 408,
   "metadata": {},
   "outputs": [],
   "source": [
    "CurrentDF = returnCurrentRows(planID,CState,age)\n",
    "FutureDF = returnFutureRows(FState,age)\n",
    "\n",
    "CurrentDF_.drop_duplicates(inplace=True)\n",
    "FutureDF_.drop_duplicates(inplace=True)\n",
    "\n",
    "CurrentDF.reset_index(inplace=True)\n",
    "FutureDF.reset_index(inplace=True)\n"
   ]
  },
  {
   "cell_type": "code",
   "execution_count": 409,
   "metadata": {},
   "outputs": [
    {
     "name": "stdout",
     "output_type": "stream",
     "text": [
      "(7, 16) (65, 16)\n"
     ]
    }
   ],
   "source": [
    "print(CurrentDF.shape,FutureDF.shape)"
   ]
  },
  {
   "cell_type": "code",
   "execution_count": 434,
   "metadata": {},
   "outputs": [
    {
     "name": "stdout",
     "output_type": "stream",
     "text": [
      "(7, 12) (65, 12)\n"
     ]
    }
   ],
   "source": [
    "CurrentDF_ = CurrentDF.drop(columns=['StandardComponentId','StateCode_x','index','level_0'])\n",
    "FutureDF_ = FutureDF.drop(columns=['StandardComponentId','StateCode_x','index','level_0'])\n",
    "\n",
    "print(CurrentDF_.shape,FutureDF_.shape)"
   ]
  },
  {
   "cell_type": "code",
   "execution_count": 411,
   "metadata": {},
   "outputs": [],
   "source": [
    "similarity = cosine_similarity(CurrentDF_,FutureDF_)"
   ]
  },
  {
   "cell_type": "code",
   "execution_count": 397,
   "metadata": {},
   "outputs": [],
   "source": [
    "#?np.indices"
   ]
  },
  {
   "cell_type": "code",
   "execution_count": 399,
   "metadata": {},
   "outputs": [],
   "source": [
    "#similarity"
   ]
  },
  {
   "cell_type": "code",
   "execution_count": 412,
   "metadata": {},
   "outputs": [],
   "source": [
    "most_sim = np.amax(similarity)\n",
    "a,b = np.where(similarity == most_sim)"
   ]
  },
  {
   "cell_type": "code",
   "execution_count": 449,
   "metadata": {},
   "outputs": [],
   "source": [
    "#a"
   ]
  },
  {
   "cell_type": "code",
   "execution_count": 450,
   "metadata": {},
   "outputs": [],
   "source": [
    "#b"
   ]
  },
  {
   "cell_type": "code",
   "execution_count": 446,
   "metadata": {},
   "outputs": [],
   "source": [
    "SCI = (FutureDF.iloc[b].drop_duplicates())['StandardComponentId'].unique()"
   ]
  },
  {
   "cell_type": "code",
   "execution_count": 429,
   "metadata": {},
   "outputs": [],
   "source": [
    "old = int(CurrentDF_.drop_duplicates()['IndividualRate'])"
   ]
  },
  {
   "cell_type": "code",
   "execution_count": 430,
   "metadata": {},
   "outputs": [],
   "source": [
    "new = int(FutureDF_.iloc[b].drop_duplicates()['IndividualRate'])"
   ]
  },
  {
   "cell_type": "code",
   "execution_count": 445,
   "metadata": {},
   "outputs": [],
   "source": [
    "#FutureDF"
   ]
  },
  {
   "cell_type": "code",
   "execution_count": 447,
   "metadata": {},
   "outputs": [
    {
     "data": {
      "text/plain": [
       "array(['76168DE0410017'], dtype=object)"
      ]
     },
     "execution_count": 447,
     "metadata": {},
     "output_type": "execute_result"
    }
   ],
   "source": [
    "SCI"
   ]
  },
  {
   "cell_type": "code",
   "execution_count": 448,
   "metadata": {},
   "outputs": [
    {
     "name": "stdout",
     "output_type": "stream",
     "text": [
      "Plan-ID: New State ['76168DE0410017']\n",
      "Difference in Rate: 31\n"
     ]
    }
   ],
   "source": [
    "print('Plan-ID: New State',SCI)\n",
    "print('Old Rate:',)\n",
    "print('Difference in Rate:',new-old)"
   ]
  },
  {
   "cell_type": "code",
   "execution_count": 292,
   "metadata": {},
   "outputs": [
    {
     "data": {
      "text/html": [
       "<div>\n",
       "<style scoped>\n",
       "    .dataframe tbody tr th:only-of-type {\n",
       "        vertical-align: middle;\n",
       "    }\n",
       "\n",
       "    .dataframe tbody tr th {\n",
       "        vertical-align: top;\n",
       "    }\n",
       "\n",
       "    .dataframe thead th {\n",
       "        text-align: right;\n",
       "    }\n",
       "</style>\n",
       "<table border=\"1\" class=\"dataframe\">\n",
       "  <thead>\n",
       "    <tr style=\"text-align: right;\">\n",
       "      <th></th>\n",
       "    </tr>\n",
       "  </thead>\n",
       "  <tbody>\n",
       "  </tbody>\n",
       "</table>\n",
       "</div>"
      ],
      "text/plain": [
       "Empty DataFrame\n",
       "Columns: []\n",
       "Index: []"
      ]
     },
     "execution_count": 292,
     "metadata": {},
     "output_type": "execute_result"
    }
   ],
   "source": [
    "temp"
   ]
  },
  {
   "cell_type": "code",
   "execution_count": 283,
   "metadata": {},
   "outputs": [
    {
     "data": {
      "text/plain": [
       "35"
      ]
     },
     "execution_count": 283,
     "metadata": {},
     "output_type": "execute_result"
    }
   ],
   "source": [
    "len(a)"
   ]
  },
  {
   "cell_type": "code",
   "execution_count": 255,
   "metadata": {},
   "outputs": [],
   "source": [
    "#maximum_sim = max(similarity)\n",
    "#max_index = similarity.index(maximum_sim)"
   ]
  },
  {
   "cell_type": "code",
   "execution_count": 256,
   "metadata": {},
   "outputs": [],
   "source": [
    "#similarity"
   ]
  },
  {
   "cell_type": "markdown",
   "metadata": {},
   "source": [
    "FutureDF.reset_index(inplace=True)\n",
    "CurrentDF.reset_index(inplace=True)"
   ]
  },
  {
   "cell_type": "code",
   "execution_count": 279,
   "metadata": {},
   "outputs": [],
   "source": [
    "#CurrentDF_"
   ]
  },
  {
   "cell_type": "code",
   "execution_count": 454,
   "metadata": {},
   "outputs": [],
   "source": [
    "#pd.concat([FutureDF.iloc[b],CurrentDF.loc[CurrentDF.index==int(a)]])"
   ]
  },
  {
   "cell_type": "code",
   "execution_count": null,
   "metadata": {},
   "outputs": [],
   "source": []
  },
  {
   "cell_type": "code",
   "execution_count": 455,
   "metadata": {},
   "outputs": [],
   "source": [
    "#suggested"
   ]
  }
 ],
 "metadata": {
  "kernelspec": {
   "display_name": "Python 3",
   "language": "python",
   "name": "python3"
  },
  "language_info": {
   "codemirror_mode": {
    "name": "ipython",
    "version": 3
   },
   "file_extension": ".py",
   "mimetype": "text/x-python",
   "name": "python",
   "nbconvert_exporter": "python",
   "pygments_lexer": "ipython3",
   "version": "3.6.8"
  }
 },
 "nbformat": 4,
 "nbformat_minor": 2
}
