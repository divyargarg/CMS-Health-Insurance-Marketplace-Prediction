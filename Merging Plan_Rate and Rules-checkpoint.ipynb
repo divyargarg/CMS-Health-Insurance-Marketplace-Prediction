{
 "cells": [
  {
   "cell_type": "code",
   "execution_count": 6,
   "metadata": {},
   "outputs": [],
   "source": [
    "import pandas as pd\n",
    "pd.set_option('display.max_rows', 500)\n",
    "pd.set_option('display.max_columns', 500)\n",
    "pd.set_option('display.width', 1000)"
   ]
  },
  {
   "cell_type": "code",
   "execution_count": 7,
   "metadata": {},
   "outputs": [],
   "source": [
    "planRates = pd.read_csv('Plan_Rate.csv')"
   ]
  },
  {
   "cell_type": "code",
   "execution_count": 8,
   "metadata": {},
   "outputs": [
    {
     "data": {
      "text/plain": [
       "Index(['DentalOnlyPlan', 'StandardComponentId', 'NetworkId', 'ServiceAreaId', 'IsNewPlan', 'PlanType', 'MetalLevel', 'DesignType', 'UniquePlanDesign', 'QHPNonQHPTypeId', 'IsNoticeRequiredForPregnancy', 'IsReferralRequiredForSpecialist', 'CompositeRatingOffered', 'ChildOnlyOffering', 'WellnessProgramOffered', 'EHBPercentTotalPremium', 'EHBPediatricDentalApportionmentQuantity', 'IsGuaranteedRate', 'OutOfCountryCoverage', 'OutOfServiceAreaCoverage', 'NationalNetwork', 'PlanId', 'CSRVariationType', 'IssuerActuarialValue', 'AVCalculatorOutputNumber', 'MedicalDrugDeductiblesIntegrated', 'MedicalDrugMaximumOutofPocketIntegrated', 'MultipleInNetworkTiers', 'FirstTierUtilization', 'SecondTierUtilization', 'IsHSAEligible', 'BusinessYear', 'StateCode', 'Tobacco', 'age_cat', 'IndividualRate'], dtype='object')"
      ]
     },
     "execution_count": 8,
     "metadata": {},
     "output_type": "execute_result"
    }
   ],
   "source": [
    "planRates.columns"
   ]
  },
  {
   "cell_type": "code",
   "execution_count": 9,
   "metadata": {
    "scrolled": true
   },
   "outputs": [
    {
     "data": {
      "text/plain": [
       "(96009, 36)"
      ]
     },
     "execution_count": 9,
     "metadata": {},
     "output_type": "execute_result"
    }
   ],
   "source": [
    "planRates.shape"
   ]
  },
  {
   "cell_type": "code",
   "execution_count": 10,
   "metadata": {},
   "outputs": [
    {
     "data": {
      "text/plain": [
       "DentalOnlyPlan                             0\n",
       "StandardComponentId                        0\n",
       "NetworkId                                  0\n",
       "ServiceAreaId                              0\n",
       "IsNewPlan                                  0\n",
       "PlanType                                   0\n",
       "MetalLevel                                 0\n",
       "DesignType                                 0\n",
       "UniquePlanDesign                           0\n",
       "QHPNonQHPTypeId                            0\n",
       "IsNoticeRequiredForPregnancy               0\n",
       "IsReferralRequiredForSpecialist            0\n",
       "CompositeRatingOffered                     0\n",
       "ChildOnlyOffering                          0\n",
       "WellnessProgramOffered                     0\n",
       "EHBPercentTotalPremium                     0\n",
       "EHBPediatricDentalApportionmentQuantity    0\n",
       "IsGuaranteedRate                           0\n",
       "OutOfCountryCoverage                       0\n",
       "OutOfServiceAreaCoverage                   0\n",
       "NationalNetwork                            0\n",
       "PlanId                                     0\n",
       "CSRVariationType                           0\n",
       "IssuerActuarialValue                       0\n",
       "AVCalculatorOutputNumber                   0\n",
       "MedicalDrugDeductiblesIntegrated           0\n",
       "MedicalDrugMaximumOutofPocketIntegrated    0\n",
       "MultipleInNetworkTiers                     0\n",
       "FirstTierUtilization                       0\n",
       "SecondTierUtilization                      0\n",
       "IsHSAEligible                              0\n",
       "BusinessYear                               0\n",
       "StateCode                                  0\n",
       "Tobacco                                    0\n",
       "age_cat                                    0\n",
       "IndividualRate                             0\n",
       "dtype: int64"
      ]
     },
     "execution_count": 10,
     "metadata": {},
     "output_type": "execute_result"
    }
   ],
   "source": [
    "planRates.isna().sum()"
   ]
  },
  {
   "cell_type": "code",
   "execution_count": 11,
   "metadata": {},
   "outputs": [],
   "source": [
    "rules = pd.read_csv('Business_Rules.csv')"
   ]
  },
  {
   "cell_type": "code",
   "execution_count": 12,
   "metadata": {},
   "outputs": [
    {
     "data": {
      "text/plain": [
       "(4293, 14)"
      ]
     },
     "execution_count": 12,
     "metadata": {},
     "output_type": "execute_result"
    }
   ],
   "source": [
    "rules.shape"
   ]
  },
  {
   "cell_type": "code",
   "execution_count": 13,
   "metadata": {},
   "outputs": [
    {
     "data": {
      "text/plain": [
       "Index(['BusinessYear', 'StateCode', 'StandardComponentId', 'EnrolleeContractRateDeterminationRule', 'TwoParentFamilyMaxDependentsRule', 'SingleParentFamilyMaxDependentsRule', 'DependentMaximumAgRule', 'ChildrenOnlyContractMaxChildrenRule', 'DomesticPartnerAsSpouseIndicator', 'SameSexPartnerAsSpouseIndicator', 'AgeDeterminationRule', 'MinimumTobaccoFreeMonthsRule', 'MarketCoverage', 'DentalOnlyPlan'], dtype='object')"
      ]
     },
     "execution_count": 13,
     "metadata": {},
     "output_type": "execute_result"
    }
   ],
   "source": [
    "rules.columns"
   ]
  },
  {
   "cell_type": "code",
   "execution_count": 17,
   "metadata": {},
   "outputs": [],
   "source": [
    "#planRates_sampled = planRates.sample(frac=0.05,random_state=42)"
   ]
  },
  {
   "cell_type": "code",
   "execution_count": 18,
   "metadata": {
    "scrolled": true
   },
   "outputs": [
    {
     "data": {
      "text/plain": [
       "(271722, 41)"
      ]
     },
     "execution_count": 18,
     "metadata": {},
     "output_type": "execute_result"
    }
   ],
   "source": [
    "#planRates_sampled.shape"
   ]
  },
  {
   "cell_type": "code",
   "execution_count": 19,
   "metadata": {},
   "outputs": [],
   "source": [
    "#SCI = list(set(planRates_sampled['StandardComponentId']))"
   ]
  },
  {
   "cell_type": "code",
   "execution_count": 41,
   "metadata": {},
   "outputs": [],
   "source": [
    "#planRates_sampled.isna().sum()"
   ]
  },
  {
   "cell_type": "code",
   "execution_count": 120,
   "metadata": {},
   "outputs": [
    {
     "data": {
      "text/plain": [
       "4293"
      ]
     },
     "execution_count": 120,
     "metadata": {},
     "output_type": "execute_result"
    }
   ],
   "source": [
    "rules['StandardComponentId'].nunique()"
   ]
  },
  {
   "cell_type": "code",
   "execution_count": 84,
   "metadata": {
    "scrolled": true
   },
   "outputs": [],
   "source": [
    "#benefits.loc[benefits['PlanId']=='21989AK0030001-00']"
   ]
  },
  {
   "cell_type": "code",
   "execution_count": 55,
   "metadata": {},
   "outputs": [
    {
     "data": {
      "text/plain": [
       "(7, 36)"
      ]
     },
     "execution_count": 55,
     "metadata": {},
     "output_type": "execute_result"
    }
   ],
   "source": [
    "#planRates.loc[planRates['PlanId']=='21989AK0030001-00'].shape"
   ]
  },
  {
   "cell_type": "code",
   "execution_count": 72,
   "metadata": {},
   "outputs": [
    {
     "data": {
      "text/plain": [
       "13857"
      ]
     },
     "execution_count": 72,
     "metadata": {},
     "output_type": "execute_result"
    }
   ],
   "source": [
    "#planRates['PlanId'].nunique()"
   ]
  },
  {
   "cell_type": "code",
   "execution_count": 73,
   "metadata": {},
   "outputs": [
    {
     "data": {
      "text/plain": [
       "4293"
      ]
     },
     "execution_count": 73,
     "metadata": {},
     "output_type": "execute_result"
    }
   ],
   "source": [
    "planRates['StandardComponentId'].nunique()"
   ]
  },
  {
   "cell_type": "code",
   "execution_count": 93,
   "metadata": {},
   "outputs": [
    {
     "data": {
      "text/plain": [
       "(96009, 36)"
      ]
     },
     "execution_count": 93,
     "metadata": {},
     "output_type": "execute_result"
    }
   ],
   "source": [
    "planRates.shape"
   ]
  },
  {
   "cell_type": "code",
   "execution_count": 87,
   "metadata": {
    "scrolled": true
   },
   "outputs": [
    {
     "data": {
      "text/plain": [
       "Index(['DentalOnlyPlan', 'StandardComponentId', 'NetworkId', 'ServiceAreaId', 'IsNewPlan', 'PlanType', 'MetalLevel', 'DesignType', 'UniquePlanDesign', 'QHPNonQHPTypeId', 'IsNoticeRequiredForPregnancy', 'IsReferralRequiredForSpecialist', 'CompositeRatingOffered', 'ChildOnlyOffering', 'WellnessProgramOffered', 'EHBPercentTotalPremium', 'EHBPediatricDentalApportionmentQuantity', 'IsGuaranteedRate', 'OutOfCountryCoverage', 'OutOfServiceAreaCoverage', 'NationalNetwork', 'PlanId', 'CSRVariationType', 'IssuerActuarialValue', 'AVCalculatorOutputNumber', 'MedicalDrugDeductiblesIntegrated', 'MedicalDrugMaximumOutofPocketIntegrated', 'MultipleInNetworkTiers', 'FirstTierUtilization', 'SecondTierUtilization', 'IsHSAEligible', 'BusinessYear', 'StateCode', 'Tobacco', 'age_cat', 'IndividualRate'], dtype='object')"
      ]
     },
     "execution_count": 87,
     "metadata": {},
     "output_type": "execute_result"
    }
   ],
   "source": [
    "planRates.columns"
   ]
  },
  {
   "cell_type": "code",
   "execution_count": 89,
   "metadata": {},
   "outputs": [
    {
     "data": {
      "text/plain": [
       "Index(['BusinessYear', 'StateCode', 'StandardComponentId', 'EnrolleeContractRateDeterminationRule', 'TwoParentFamilyMaxDependentsRule', 'SingleParentFamilyMaxDependentsRule', 'DependentMaximumAgRule', 'ChildrenOnlyContractMaxChildrenRule', 'DomesticPartnerAsSpouseIndicator', 'SameSexPartnerAsSpouseIndicator', 'AgeDeterminationRule', 'MinimumTobaccoFreeMonthsRule', 'MarketCoverage', 'DentalOnlyPlan'], dtype='object')"
      ]
     },
     "execution_count": 89,
     "metadata": {},
     "output_type": "execute_result"
    }
   ],
   "source": [
    "rules.columns"
   ]
  },
  {
   "cell_type": "code",
   "execution_count": 14,
   "metadata": {},
   "outputs": [],
   "source": [
    "joined = planRates.merge(rules, on=['StandardComponentId'], how = 'inner')"
   ]
  },
  {
   "cell_type": "code",
   "execution_count": 122,
   "metadata": {},
   "outputs": [],
   "source": [
    "#joined.loc[joined['PlanId']=='21989AK0030001-00'].shape"
   ]
  },
  {
   "cell_type": "code",
   "execution_count": 15,
   "metadata": {},
   "outputs": [
    {
     "data": {
      "text/plain": [
       "(96009, 49)"
      ]
     },
     "execution_count": 15,
     "metadata": {},
     "output_type": "execute_result"
    }
   ],
   "source": [
    "joined.shape"
   ]
  },
  {
   "cell_type": "code",
   "execution_count": 16,
   "metadata": {},
   "outputs": [
    {
     "data": {
      "text/plain": [
       "DentalOnlyPlan_x                           0\n",
       "StandardComponentId                        0\n",
       "NetworkId                                  0\n",
       "ServiceAreaId                              0\n",
       "IsNewPlan                                  0\n",
       "PlanType                                   0\n",
       "MetalLevel                                 0\n",
       "DesignType                                 0\n",
       "UniquePlanDesign                           0\n",
       "QHPNonQHPTypeId                            0\n",
       "IsNoticeRequiredForPregnancy               0\n",
       "IsReferralRequiredForSpecialist            0\n",
       "CompositeRatingOffered                     0\n",
       "ChildOnlyOffering                          0\n",
       "WellnessProgramOffered                     0\n",
       "EHBPercentTotalPremium                     0\n",
       "EHBPediatricDentalApportionmentQuantity    0\n",
       "IsGuaranteedRate                           0\n",
       "OutOfCountryCoverage                       0\n",
       "OutOfServiceAreaCoverage                   0\n",
       "NationalNetwork                            0\n",
       "PlanId                                     0\n",
       "CSRVariationType                           0\n",
       "IssuerActuarialValue                       0\n",
       "AVCalculatorOutputNumber                   0\n",
       "MedicalDrugDeductiblesIntegrated           0\n",
       "MedicalDrugMaximumOutofPocketIntegrated    0\n",
       "MultipleInNetworkTiers                     0\n",
       "FirstTierUtilization                       0\n",
       "SecondTierUtilization                      0\n",
       "IsHSAEligible                              0\n",
       "BusinessYear_x                             0\n",
       "StateCode_x                                0\n",
       "Tobacco                                    0\n",
       "age_cat                                    0\n",
       "IndividualRate                             0\n",
       "BusinessYear_y                             0\n",
       "StateCode_y                                0\n",
       "EnrolleeContractRateDeterminationRule      0\n",
       "TwoParentFamilyMaxDependentsRule           0\n",
       "SingleParentFamilyMaxDependentsRule        0\n",
       "DependentMaximumAgRule                     0\n",
       "ChildrenOnlyContractMaxChildrenRule        0\n",
       "DomesticPartnerAsSpouseIndicator           0\n",
       "SameSexPartnerAsSpouseIndicator            0\n",
       "AgeDeterminationRule                       0\n",
       "MinimumTobaccoFreeMonthsRule               0\n",
       "MarketCoverage                             0\n",
       "DentalOnlyPlan_y                           0\n",
       "dtype: int64"
      ]
     },
     "execution_count": 16,
     "metadata": {},
     "output_type": "execute_result"
    }
   ],
   "source": [
    "joined.isna().sum()"
   ]
  },
  {
   "cell_type": "code",
   "execution_count": 17,
   "metadata": {},
   "outputs": [],
   "source": [
    "joined.to_csv('MergedData_Final.csv',index=False)"
   ]
  },
  {
   "cell_type": "code",
   "execution_count": null,
   "metadata": {},
   "outputs": [],
   "source": []
  },
  {
   "cell_type": "code",
   "execution_count": null,
   "metadata": {},
   "outputs": [],
   "source": []
  }
 ],
 "metadata": {
  "kernelspec": {
   "display_name": "Python 3",
   "language": "python",
   "name": "python3"
  },
  "language_info": {
   "codemirror_mode": {
    "name": "ipython",
    "version": 3
   },
   "file_extension": ".py",
   "mimetype": "text/x-python",
   "name": "python",
   "nbconvert_exporter": "python",
   "pygments_lexer": "ipython3",
   "version": "3.6.8"
  }
 },
 "nbformat": 4,
 "nbformat_minor": 2
}
