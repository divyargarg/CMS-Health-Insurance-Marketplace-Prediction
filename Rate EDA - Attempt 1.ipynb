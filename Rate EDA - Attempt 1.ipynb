{
 "cells": [
  {
   "cell_type": "code",
   "execution_count": 3,
   "metadata": {},
   "outputs": [],
   "source": [
    "import pandas as pd\n",
    "pd.set_option('display.max_rows', 500)\n",
    "pd.set_option('display.max_columns', 500)\n",
    "pd.set_option('display.width', 1000)"
   ]
  },
  {
   "cell_type": "code",
   "execution_count": 4,
   "metadata": {},
   "outputs": [],
   "source": [
    "rate = pd.read_csv('Original Data/Rate.csv')"
   ]
  },
  {
   "cell_type": "code",
   "execution_count": 5,
   "metadata": {},
   "outputs": [
    {
     "data": {
      "text/plain": [
       "(12694445, 24)"
      ]
     },
     "execution_count": 5,
     "metadata": {},
     "output_type": "execute_result"
    }
   ],
   "source": [
    "rate.shape"
   ]
  },
  {
   "cell_type": "code",
   "execution_count": 6,
   "metadata": {},
   "outputs": [
    {
     "data": {
      "text/plain": [
       "BusinessYear                                        0\n",
       "StateCode                                           0\n",
       "IssuerId                                            0\n",
       "SourceName                                          0\n",
       "VersionNum                                          0\n",
       "ImportDate                                          0\n",
       "IssuerId2                                           0\n",
       "FederalTIN                                          0\n",
       "RateEffectiveDate                                   0\n",
       "RateExpirationDate                                  0\n",
       "PlanId                                              0\n",
       "RatingAreaId                                        0\n",
       "Tobacco                                             0\n",
       "Age                                                 0\n",
       "IndividualRate                                      0\n",
       "IndividualTobaccoRate                         7762096\n",
       "Couple                                       12653504\n",
       "PrimarySubscriberAndOneDependent             12653504\n",
       "PrimarySubscriberAndTwoDependents            12653504\n",
       "PrimarySubscriberAndThreeOrMoreDependents    12653504\n",
       "CoupleAndOneDependent                        12653504\n",
       "CoupleAndTwoDependents                       12653504\n",
       "CoupleAndThreeOrMoreDependents               12653504\n",
       "RowNumber                                           0\n",
       "dtype: int64"
      ]
     },
     "execution_count": 6,
     "metadata": {},
     "output_type": "execute_result"
    }
   ],
   "source": [
    "rate.isna().sum()"
   ]
  },
  {
   "cell_type": "code",
   "execution_count": 20,
   "metadata": {},
   "outputs": [
    {
     "data": {
      "text/plain": [
       "Index(['BusinessYear', 'StateCode', 'SourceName', 'VersionNum', 'ImportDate', 'PlanId', 'RatingAreaId', 'Tobacco', 'Age', 'IndividualRate'], dtype='object')"
      ]
     },
     "execution_count": 20,
     "metadata": {},
     "output_type": "execute_result"
    }
   ],
   "source": [
    "rate.columns"
   ]
  },
  {
   "cell_type": "code",
   "execution_count": 10,
   "metadata": {},
   "outputs": [],
   "source": [
    "rate.drop_duplicates(inplace=True)"
   ]
  },
  {
   "cell_type": "code",
   "execution_count": 11,
   "metadata": {},
   "outputs": [
    {
     "data": {
      "text/plain": [
       "(12662423, 24)"
      ]
     },
     "execution_count": 11,
     "metadata": {},
     "output_type": "execute_result"
    }
   ],
   "source": [
    "rate.shape"
   ]
  },
  {
   "cell_type": "code",
   "execution_count": 19,
   "metadata": {},
   "outputs": [],
   "source": [
    "rate.drop(columns=['RowNumber','RateEffectiveDate','RateExpirationDate','IssuerId','IssuerId2','FederalTIN','IndividualTobaccoRate', 'Couple', 'PrimarySubscriberAndOneDependent', 'PrimarySubscriberAndTwoDependents', 'PrimarySubscriberAndThreeOrMoreDependents', 'CoupleAndOneDependent', 'CoupleAndTwoDependents', 'CoupleAndThreeOrMoreDependents'],inplace=True)"
   ]
  },
  {
   "cell_type": "code",
   "execution_count": 16,
   "metadata": {},
   "outputs": [
    {
     "data": {
      "text/plain": [
       "HIOS     8670430\n",
       "SERFF    3853855\n",
       "OPM       138138\n",
       "Name: SourceName, dtype: int64"
      ]
     },
     "execution_count": 16,
     "metadata": {},
     "output_type": "execute_result"
    }
   ],
   "source": [
    "rate['SourceName'].value_counts()"
   ]
  },
  {
   "cell_type": "code",
   "execution_count": 7,
   "metadata": {},
   "outputs": [],
   "source": [
    "rate.fillna(0,inplace=True)"
   ]
  },
  {
   "cell_type": "code",
   "execution_count": 8,
   "metadata": {},
   "outputs": [
    {
     "data": {
      "text/html": [
       "<div>\n",
       "<style scoped>\n",
       "    .dataframe tbody tr th:only-of-type {\n",
       "        vertical-align: middle;\n",
       "    }\n",
       "\n",
       "    .dataframe tbody tr th {\n",
       "        vertical-align: top;\n",
       "    }\n",
       "\n",
       "    .dataframe thead th {\n",
       "        text-align: right;\n",
       "    }\n",
       "</style>\n",
       "<table border=\"1\" class=\"dataframe\">\n",
       "  <thead>\n",
       "    <tr style=\"text-align: right;\">\n",
       "      <th></th>\n",
       "      <th>BusinessYear</th>\n",
       "      <th>IssuerId</th>\n",
       "      <th>VersionNum</th>\n",
       "      <th>IssuerId2</th>\n",
       "      <th>IndividualRate</th>\n",
       "      <th>IndividualTobaccoRate</th>\n",
       "      <th>Couple</th>\n",
       "      <th>PrimarySubscriberAndOneDependent</th>\n",
       "      <th>PrimarySubscriberAndTwoDependents</th>\n",
       "      <th>PrimarySubscriberAndThreeOrMoreDependents</th>\n",
       "      <th>CoupleAndOneDependent</th>\n",
       "      <th>CoupleAndTwoDependents</th>\n",
       "      <th>CoupleAndThreeOrMoreDependents</th>\n",
       "      <th>RowNumber</th>\n",
       "    </tr>\n",
       "  </thead>\n",
       "  <tbody>\n",
       "    <tr>\n",
       "      <th>BusinessYear</th>\n",
       "      <td>1.000000</td>\n",
       "      <td>0.035613</td>\n",
       "      <td>-0.056549</td>\n",
       "      <td>0.035613</td>\n",
       "      <td>-0.080011</td>\n",
       "      <td>-0.050865</td>\n",
       "      <td>0.006716</td>\n",
       "      <td>0.007727</td>\n",
       "      <td>0.007566</td>\n",
       "      <td>0.006524</td>\n",
       "      <td>0.007299</td>\n",
       "      <td>0.006757</td>\n",
       "      <td>0.006034</td>\n",
       "      <td>-0.006037</td>\n",
       "    </tr>\n",
       "    <tr>\n",
       "      <th>IssuerId</th>\n",
       "      <td>0.035613</td>\n",
       "      <td>1.000000</td>\n",
       "      <td>-0.086478</td>\n",
       "      <td>1.000000</td>\n",
       "      <td>0.019026</td>\n",
       "      <td>-0.121667</td>\n",
       "      <td>0.011161</td>\n",
       "      <td>0.011192</td>\n",
       "      <td>0.011902</td>\n",
       "      <td>0.012076</td>\n",
       "      <td>0.011318</td>\n",
       "      <td>0.011534</td>\n",
       "      <td>0.011670</td>\n",
       "      <td>-0.051335</td>\n",
       "    </tr>\n",
       "    <tr>\n",
       "      <th>VersionNum</th>\n",
       "      <td>-0.056549</td>\n",
       "      <td>-0.086478</td>\n",
       "      <td>1.000000</td>\n",
       "      <td>-0.086478</td>\n",
       "      <td>0.011166</td>\n",
       "      <td>0.198465</td>\n",
       "      <td>-0.039333</td>\n",
       "      <td>-0.039731</td>\n",
       "      <td>-0.039608</td>\n",
       "      <td>-0.038950</td>\n",
       "      <td>-0.038630</td>\n",
       "      <td>-0.038581</td>\n",
       "      <td>-0.038058</td>\n",
       "      <td>0.150173</td>\n",
       "    </tr>\n",
       "    <tr>\n",
       "      <th>IssuerId2</th>\n",
       "      <td>0.035613</td>\n",
       "      <td>1.000000</td>\n",
       "      <td>-0.086478</td>\n",
       "      <td>1.000000</td>\n",
       "      <td>0.019026</td>\n",
       "      <td>-0.121667</td>\n",
       "      <td>0.011161</td>\n",
       "      <td>0.011192</td>\n",
       "      <td>0.011902</td>\n",
       "      <td>0.012076</td>\n",
       "      <td>0.011318</td>\n",
       "      <td>0.011534</td>\n",
       "      <td>0.011670</td>\n",
       "      <td>-0.051335</td>\n",
       "    </tr>\n",
       "    <tr>\n",
       "      <th>IndividualRate</th>\n",
       "      <td>-0.080011</td>\n",
       "      <td>0.019026</td>\n",
       "      <td>0.011166</td>\n",
       "      <td>0.019026</td>\n",
       "      <td>1.000000</td>\n",
       "      <td>-0.037671</td>\n",
       "      <td>-0.003189</td>\n",
       "      <td>-0.003242</td>\n",
       "      <td>-0.003191</td>\n",
       "      <td>-0.003171</td>\n",
       "      <td>-0.003145</td>\n",
       "      <td>-0.003143</td>\n",
       "      <td>-0.003121</td>\n",
       "      <td>-0.039892</td>\n",
       "    </tr>\n",
       "    <tr>\n",
       "      <th>IndividualTobaccoRate</th>\n",
       "      <td>-0.050865</td>\n",
       "      <td>-0.121667</td>\n",
       "      <td>0.198465</td>\n",
       "      <td>-0.121667</td>\n",
       "      <td>-0.037671</td>\n",
       "      <td>1.000000</td>\n",
       "      <td>-0.031487</td>\n",
       "      <td>-0.032005</td>\n",
       "      <td>-0.031498</td>\n",
       "      <td>-0.031300</td>\n",
       "      <td>-0.031052</td>\n",
       "      <td>-0.031028</td>\n",
       "      <td>-0.030813</td>\n",
       "      <td>0.204084</td>\n",
       "    </tr>\n",
       "    <tr>\n",
       "      <th>Couple</th>\n",
       "      <td>0.006716</td>\n",
       "      <td>0.011161</td>\n",
       "      <td>-0.039333</td>\n",
       "      <td>0.011161</td>\n",
       "      <td>-0.003189</td>\n",
       "      <td>-0.031487</td>\n",
       "      <td>1.000000</td>\n",
       "      <td>0.990967</td>\n",
       "      <td>0.986564</td>\n",
       "      <td>0.977668</td>\n",
       "      <td>0.990349</td>\n",
       "      <td>0.990120</td>\n",
       "      <td>0.977673</td>\n",
       "      <td>-0.033515</td>\n",
       "    </tr>\n",
       "    <tr>\n",
       "      <th>PrimarySubscriberAndOneDependent</th>\n",
       "      <td>0.007727</td>\n",
       "      <td>0.011192</td>\n",
       "      <td>-0.039731</td>\n",
       "      <td>0.011192</td>\n",
       "      <td>-0.003242</td>\n",
       "      <td>-0.032005</td>\n",
       "      <td>0.990967</td>\n",
       "      <td>1.000000</td>\n",
       "      <td>0.989456</td>\n",
       "      <td>0.974192</td>\n",
       "      <td>0.995788</td>\n",
       "      <td>0.988666</td>\n",
       "      <td>0.971807</td>\n",
       "      <td>-0.034053</td>\n",
       "    </tr>\n",
       "    <tr>\n",
       "      <th>PrimarySubscriberAndTwoDependents</th>\n",
       "      <td>0.007566</td>\n",
       "      <td>0.011902</td>\n",
       "      <td>-0.039608</td>\n",
       "      <td>0.011902</td>\n",
       "      <td>-0.003191</td>\n",
       "      <td>-0.031498</td>\n",
       "      <td>0.986564</td>\n",
       "      <td>0.989456</td>\n",
       "      <td>1.000000</td>\n",
       "      <td>0.990142</td>\n",
       "      <td>0.991968</td>\n",
       "      <td>0.992134</td>\n",
       "      <td>0.980932</td>\n",
       "      <td>-0.033504</td>\n",
       "    </tr>\n",
       "    <tr>\n",
       "      <th>PrimarySubscriberAndThreeOrMoreDependents</th>\n",
       "      <td>0.006524</td>\n",
       "      <td>0.012076</td>\n",
       "      <td>-0.038950</td>\n",
       "      <td>0.012076</td>\n",
       "      <td>-0.003171</td>\n",
       "      <td>-0.031300</td>\n",
       "      <td>0.977668</td>\n",
       "      <td>0.974192</td>\n",
       "      <td>0.990142</td>\n",
       "      <td>1.000000</td>\n",
       "      <td>0.975491</td>\n",
       "      <td>0.992825</td>\n",
       "      <td>0.995914</td>\n",
       "      <td>-0.033283</td>\n",
       "    </tr>\n",
       "    <tr>\n",
       "      <th>CoupleAndOneDependent</th>\n",
       "      <td>0.007299</td>\n",
       "      <td>0.011318</td>\n",
       "      <td>-0.038630</td>\n",
       "      <td>0.011318</td>\n",
       "      <td>-0.003145</td>\n",
       "      <td>-0.031052</td>\n",
       "      <td>0.990349</td>\n",
       "      <td>0.995788</td>\n",
       "      <td>0.991968</td>\n",
       "      <td>0.975491</td>\n",
       "      <td>1.000000</td>\n",
       "      <td>0.991700</td>\n",
       "      <td>0.973743</td>\n",
       "      <td>-0.033038</td>\n",
       "    </tr>\n",
       "    <tr>\n",
       "      <th>CoupleAndTwoDependents</th>\n",
       "      <td>0.006757</td>\n",
       "      <td>0.011534</td>\n",
       "      <td>-0.038581</td>\n",
       "      <td>0.011534</td>\n",
       "      <td>-0.003143</td>\n",
       "      <td>-0.031028</td>\n",
       "      <td>0.990120</td>\n",
       "      <td>0.988666</td>\n",
       "      <td>0.992134</td>\n",
       "      <td>0.992825</td>\n",
       "      <td>0.991700</td>\n",
       "      <td>1.000000</td>\n",
       "      <td>0.994628</td>\n",
       "      <td>-0.033006</td>\n",
       "    </tr>\n",
       "    <tr>\n",
       "      <th>CoupleAndThreeOrMoreDependents</th>\n",
       "      <td>0.006034</td>\n",
       "      <td>0.011670</td>\n",
       "      <td>-0.038058</td>\n",
       "      <td>0.011670</td>\n",
       "      <td>-0.003121</td>\n",
       "      <td>-0.030813</td>\n",
       "      <td>0.977673</td>\n",
       "      <td>0.971807</td>\n",
       "      <td>0.980932</td>\n",
       "      <td>0.995914</td>\n",
       "      <td>0.973743</td>\n",
       "      <td>0.994628</td>\n",
       "      <td>1.000000</td>\n",
       "      <td>-0.032769</td>\n",
       "    </tr>\n",
       "    <tr>\n",
       "      <th>RowNumber</th>\n",
       "      <td>-0.006037</td>\n",
       "      <td>-0.051335</td>\n",
       "      <td>0.150173</td>\n",
       "      <td>-0.051335</td>\n",
       "      <td>-0.039892</td>\n",
       "      <td>0.204084</td>\n",
       "      <td>-0.033515</td>\n",
       "      <td>-0.034053</td>\n",
       "      <td>-0.033504</td>\n",
       "      <td>-0.033283</td>\n",
       "      <td>-0.033038</td>\n",
       "      <td>-0.033006</td>\n",
       "      <td>-0.032769</td>\n",
       "      <td>1.000000</td>\n",
       "    </tr>\n",
       "  </tbody>\n",
       "</table>\n",
       "</div>"
      ],
      "text/plain": [
       "                                           BusinessYear  IssuerId  VersionNum  IssuerId2  IndividualRate  IndividualTobaccoRate    Couple  PrimarySubscriberAndOneDependent  PrimarySubscriberAndTwoDependents  PrimarySubscriberAndThreeOrMoreDependents  CoupleAndOneDependent  CoupleAndTwoDependents  CoupleAndThreeOrMoreDependents  RowNumber\n",
       "BusinessYear                                   1.000000  0.035613   -0.056549   0.035613       -0.080011              -0.050865  0.006716                          0.007727                           0.007566                                   0.006524               0.007299                0.006757                        0.006034  -0.006037\n",
       "IssuerId                                       0.035613  1.000000   -0.086478   1.000000        0.019026              -0.121667  0.011161                          0.011192                           0.011902                                   0.012076               0.011318                0.011534                        0.011670  -0.051335\n",
       "VersionNum                                    -0.056549 -0.086478    1.000000  -0.086478        0.011166               0.198465 -0.039333                         -0.039731                          -0.039608                                  -0.038950              -0.038630               -0.038581                       -0.038058   0.150173\n",
       "IssuerId2                                      0.035613  1.000000   -0.086478   1.000000        0.019026              -0.121667  0.011161                          0.011192                           0.011902                                   0.012076               0.011318                0.011534                        0.011670  -0.051335\n",
       "IndividualRate                                -0.080011  0.019026    0.011166   0.019026        1.000000              -0.037671 -0.003189                         -0.003242                          -0.003191                                  -0.003171              -0.003145               -0.003143                       -0.003121  -0.039892\n",
       "IndividualTobaccoRate                         -0.050865 -0.121667    0.198465  -0.121667       -0.037671               1.000000 -0.031487                         -0.032005                          -0.031498                                  -0.031300              -0.031052               -0.031028                       -0.030813   0.204084\n",
       "Couple                                         0.006716  0.011161   -0.039333   0.011161       -0.003189              -0.031487  1.000000                          0.990967                           0.986564                                   0.977668               0.990349                0.990120                        0.977673  -0.033515\n",
       "PrimarySubscriberAndOneDependent               0.007727  0.011192   -0.039731   0.011192       -0.003242              -0.032005  0.990967                          1.000000                           0.989456                                   0.974192               0.995788                0.988666                        0.971807  -0.034053\n",
       "PrimarySubscriberAndTwoDependents              0.007566  0.011902   -0.039608   0.011902       -0.003191              -0.031498  0.986564                          0.989456                           1.000000                                   0.990142               0.991968                0.992134                        0.980932  -0.033504\n",
       "PrimarySubscriberAndThreeOrMoreDependents      0.006524  0.012076   -0.038950   0.012076       -0.003171              -0.031300  0.977668                          0.974192                           0.990142                                   1.000000               0.975491                0.992825                        0.995914  -0.033283\n",
       "CoupleAndOneDependent                          0.007299  0.011318   -0.038630   0.011318       -0.003145              -0.031052  0.990349                          0.995788                           0.991968                                   0.975491               1.000000                0.991700                        0.973743  -0.033038\n",
       "CoupleAndTwoDependents                         0.006757  0.011534   -0.038581   0.011534       -0.003143              -0.031028  0.990120                          0.988666                           0.992134                                   0.992825               0.991700                1.000000                        0.994628  -0.033006\n",
       "CoupleAndThreeOrMoreDependents                 0.006034  0.011670   -0.038058   0.011670       -0.003121              -0.030813  0.977673                          0.971807                           0.980932                                   0.995914               0.973743                0.994628                        1.000000  -0.032769\n",
       "RowNumber                                     -0.006037 -0.051335    0.150173  -0.051335       -0.039892               0.204084 -0.033515                         -0.034053                          -0.033504                                  -0.033283              -0.033038               -0.033006                       -0.032769   1.000000"
      ]
     },
     "execution_count": 8,
     "metadata": {},
     "output_type": "execute_result"
    }
   ],
   "source": [
    "rate.corr()"
   ]
  },
  {
   "cell_type": "code",
   "execution_count": 22,
   "metadata": {},
   "outputs": [],
   "source": [
    "rate.to_csv('ModifiedData/Rate_Cleaned.csv')"
   ]
  },
  {
   "cell_type": "code",
   "execution_count": null,
   "metadata": {},
   "outputs": [],
   "source": []
  }
 ],
 "metadata": {
  "kernelspec": {
   "display_name": "Python 3",
   "language": "python",
   "name": "python3"
  },
  "language_info": {
   "codemirror_mode": {
    "name": "ipython",
    "version": 3
   },
   "file_extension": ".py",
   "mimetype": "text/x-python",
   "name": "python",
   "nbconvert_exporter": "python",
   "pygments_lexer": "ipython3",
   "version": "3.6.8"
  }
 },
 "nbformat": 4,
 "nbformat_minor": 2
}
